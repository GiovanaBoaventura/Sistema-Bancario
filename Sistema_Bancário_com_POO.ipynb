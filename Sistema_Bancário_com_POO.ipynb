{
  "nbformat": 4,
  "nbformat_minor": 0,
  "metadata": {
    "colab": {
      "provenance": [],
      "authorship_tag": "ABX9TyMvNjGz5AZAfCAC3KcU0zPL",
      "include_colab_link": true
    },
    "kernelspec": {
      "name": "python3",
      "display_name": "Python 3"
    },
    "language_info": {
      "name": "python"
    }
  },
  "cells": [
    {
      "cell_type": "markdown",
      "metadata": {
        "id": "view-in-github",
        "colab_type": "text"
      },
      "source": [
        "<a href=\"https://colab.research.google.com/github/GiovanaBoaventura/Sistema-Bancario/blob/main/Sistema_Banc%C3%A1rio_com_POO.ipynb\" target=\"_parent\"><img src=\"https://colab.research.google.com/assets/colab-badge.svg\" alt=\"Open In Colab\"/></a>"
      ]
    },
    {
      "cell_type": "markdown",
      "source": [
        "#**Sistema Bancário com POO**"
      ],
      "metadata": {
        "id": "lDuL4nO8dHDo"
      }
    },
    {
      "cell_type": "markdown",
      "source": [
        "##**Primeira Etapa**"
      ],
      "metadata": {
        "id": "LCwiob27dI4Z"
      }
    },
    {
      "cell_type": "code",
      "source": [
        "class ContaBancaria:\n",
        "    \"\"\"\n",
        "    Representa uma conta bancária com saldo e histórico de transações.\n",
        "    \"\"\"\n",
        "    #Método Construtor que define os atributos dos objetos a serem criados(instanciados)\n",
        "    def __init__(self, numero_conta, saldo_inicial=0, extrato_inicial=None):\n",
        "        self.saldo = saldo_inicial\n",
        "        self._numero_conta = numero_conta\n",
        "        self.extrato = extrato_inicial if extrato_inicial is not None else []\n",
        "# Exemplo de como você poderia usar a classe\n",
        "# Criando uma nova conta bancária\n",
        "minha_conta = ContaBancaria(numero_conta=\"12345-x\", saldo_inicial=1000.0)\n",
        "print(f\"Conta criada: {minha_conta._numero_conta}, Saldo inicial: R$ {minha_conta.saldo:.2f}\")\n",
        "\n",
        "# Criando outra conta para demonstrar a independência\n",
        "conta_joao = ContaBancaria(numero_conta=\"67890-y\")\n",
        "print(f\"Conta de João: {conta_joao._numero_conta}, Saldo inicial: R$ {conta_joao.saldo:.2f}\")\n",
        "\n",
        "# O extrato é uma lista vazia no início\n",
        "print(f\"Extrato da minha conta: {minha_conta.extrato}\")"
      ],
      "metadata": {
        "id": "NUYjej7HdOMj"
      },
      "execution_count": null,
      "outputs": []
    },
    {
      "cell_type": "markdown",
      "source": [
        "##**Segunda Etapa**"
      ],
      "metadata": {
        "id": "DHbJkZxNdV6H"
      }
    },
    {
      "cell_type": "code",
      "source": [
        "import datetime #Necessário para registrar a data e a hora das transações\n",
        "\n",
        "class ContaBancaria:\n",
        "   \"\"\" Representa uma conta bancária com saldo e histórico de transações.\"\"\"\n",
        "    #Método Construtor que defini os atributos dos objetos a serem criados(instanciados)\n",
        "    def __init__(self, numero_conta, saldo_inicial=0, extrato_inicial=None):\n",
        "        self.saldo = saldo_inicial\n",
        "        self._numero_conta = numero_conta\n",
        "        self.extrato = extrato_inicial if extrato_inicial is not None else []\n",
        "\n",
        "    def consultar_saldo(self):\n",
        "        \"\"\"Exibe o saldo atual da conta.\"\"\"\n",
        "        print(f\"Seu saldo atual é: R$ {self.saldo:.2f}\")\n",
        "\n",
        "    def depositar(self, valor):\n",
        "        \"\"\" Realiza uma operação de depósito na conta.\"\"\"\n",
        "        try:\n",
        "            valor_deposito = float(valor)\n",
        "            if valor_deposito <= 0:\n",
        "                print(\"Valor de depósito inválido. Digite um número positivo.\")\n",
        "                return\n",
        "            self.saldo += valor_deposito #Atualiza o saldo (somando o valor do depósito).\n",
        "            #Registra a transação no extrato\n",
        "            agora = datetime.datetime.now()\n",
        "            self.extrato.append({\n",
        "                \"data_hora\": agora.strftime(\"%d/%m/%Y %H:%M:%S\"),\n",
        "                \"tipo\": \"Depósito\",\n",
        "                \"valor\": valor_deposito\n",
        "            })\n",
        "            print(f\"Depósito de R$ {valor_deposito:.2f} realizado com sucesso.\")\n",
        "            print(f\"Seu novo saldo é: R$ {self.saldo:.2f}\")\n",
        "        except ValueError:\n",
        "            print(\"Valor inválido para depósito. Por favor, digite um número.\")\n",
        "\n",
        "    def sacar(self, valor):\n",
        "        \"\"\"Realiza uma operação de saque na conta, verificando o saldo.\"\"\"\n",
        "        try:\n",
        "            valor_saque = float(valor)\n",
        "            if valor_saque <= 0:\n",
        "                print(\"Valor de saque inválido. Digite um número positivo.\")\n",
        "                return\n",
        "            if valor_saque <= self.saldo: #Verifica se o saldo é suficiente.\n",
        "                self.saldo -= valor_saque #Atualiza o saldo.\n",
        "                #Registra a transição no extrato.\n",
        "                agora= datetime.datetime.now()\n",
        "                self.extrato.append({\n",
        "                    \"data_hora\": agora.strftime(\"%d/%m/%Y %H:%M:%S\"),\n",
        "                    \"tipo\": \"Saque\",\n",
        "                    \"valor\": valor_saque\n",
        "                })\n",
        "                print(f\"Saque de R$ {valor_saque:.2f} realizado com sucesso.\")\n",
        "                print(f\"Seu novo saldo é: R$ {self.saldo:.2f}\")\n",
        "            else:\n",
        "                print(\"Saldo insuficiente.\")\n",
        "        except ValueError:\n",
        "            print(\"Valor inválido para saque. Por favor, digite um número.\")\n",
        "\n",
        "#Exemplo de uso da classe (para testar os métodos):\n",
        "if __name__ ==\"__main__\":\n",
        "    #Criando uma conta bancária de exemplo\n",
        "    minha_conta = ContaBancaria(numero_conta=\"98765-4\", saldo_inicial=500.0)\n",
        "    print(f\"Conta {minha_conta._numero_conta} criada com saldo: R$ {minha_conta.saldo:.2f}\")\n",
        "\n",
        "    print(\"\\n=== Testando operações ---\")\n",
        "    minha_conta.consultar_saldo() # Exibe o saldo atual da conta\n",
        "\n",
        "    minha_conta.depositar(200) # Permite ao usuário depositar um valor na conta\n",
        "    minha_conta.consultar_saldo() # Exibe o saldo atual da conta\n",
        "\n",
        "    minha_conta.sacar(150) # Permite ao usuário sacar um valor da conta, verificando se há saldo suficiente\n",
        "    minha_conta.consultar_saldo()\n",
        "\n",
        "    minha_conta.sacar(700) # Tentativa de saque com saldo insuficiente\n",
        "    minha_conta.consultar_saldo()\n",
        "\n",
        "    minha_conta.depositar(\"abc\") # Teste de entrada inválida para depósito\n",
        "    minha_conta.sacar(\"xyz\") # Teste de entrada inválida para saque"
      ],
      "metadata": {
        "id": "YJqMs6SNdYIZ"
      },
      "execution_count": null,
      "outputs": []
    },
    {
      "cell_type": "markdown",
      "source": [
        "##**Terceira Etapa**"
      ],
      "metadata": {
        "id": "aU8ZUNfCdf9V"
      }
    },
    {
      "cell_type": "code",
      "source": [
        "def exibir_extrato(self):\n",
        "  \"\"\"Exibe o histórico detalhado de transações da conta.\"\"\"\n",
        "  if not self.extrato #Verifica se o extrato está vazio\n",
        "     print(\"Não foram realizadas transações.\")\n",
        "  else:\n",
        "    print(\"\\n--- Extrato Bancário ---\")\n",
        "    for transacao in self.extrato: #Iterar sobre a lista extrato e exiba cada transação formatada.\n",
        "        data_hora = transacao[\"data_hora\"]\n",
        "        tipo = transacao[\"tipo\"]\n",
        "        valor = transacao[\"valor\"]\n",
        "        print(f\"{data_hora} - {tipo}: R$ {valor:.2f}\")\n",
        "    print(f\"Saldo atual: R$ {self.saldo:.2f}\") #Exibir o saldo atual da conta.\n",
        "\n",
        "def transferir(self, conta_destino, valor):\n",
        "    \"\"\" Realiza uma transferência de valor para outra conta bancária.\"\"\"\n",
        "    try:\n",
        "       valor_transferencia = float(valor)\n",
        "       if valor_transferencia <= 0:\n",
        "          print(\"Valor de transferêmcia inválido. Digite um número positivo.\")\n",
        "          return\n",
        "\n",
        "       if not isinstance(conta_destino, ContaBancaria):\n",
        "          print(\"Erro: A conta de destino não é valida de ContaBancaria.\")\n",
        "          return\n",
        "\n",
        "       if valor_transferencia <= self.saldo:\n",
        "          self.saldo -= valor_transferencia\n",
        "          agora = datetime.datetime.now()\n",
        "          self.extrato.append ({\n",
        "              \"data_hora\": agora.strftime(\"5d/%m/%Y 5H:%M:%$\"),\n",
        "              \"tipo\": f\"Transferêmcoa para {conta_destino._numero_conta}\",\n",
        "              \"valor\": valor_transferencia\n",
        "          })\n",
        "          print(f\"tranferência de R$ {valor_transferencia:.2f} para cont {conta_destino._numero_conta} realizada com sucesso.\")\n",
        "          print(f\"Seu novo saldo é: R$ {sel.saldo:.2f}\")\n",
        "\n",
        "          conta_destino.depositar(valor_transferencia)\n",
        "      else:\n",
        "          print(\"Saldo insuficiente para realizar a transferência.\")\n",
        "  except ValueError:\n",
        "      print(\"Valor inválido para transferência. Por favor, digite um número.\")\n",
        "\n",
        "if __name__==\"__main__\":\n",
        "    minha_conta = ContaBancaria(numero_conta=\"12345-x\", saldo_inicial=1000.0)\n",
        "    conta_joao = ContaBancaria (numero_conta=\"67890-y\", saldo_inicial=200.0)\n",
        "\n",
        "    print(f\"Conta {minha_conta._numero_conta} criada com saldo: R$ {minha_conta.saldo:.2f}\")\n",
        "    print(f\"Conta {conta_joao._numero_conta} croada com saldo: R$ {conta_joao.saldo:.2f}\")\n",
        "\n",
        "    print(\"\\n--- Realizando Operações para popular o extrato ---\")\n",
        "    minha_conta.depositar(300)\n",
        "    minha_conta.sacar(150)\n",
        "\n",
        "    print(\"\\n-- Realizando Operações para popular o extrato ---\")\n",
        "    minha_conta.depositar(300)\n",
        "    minha_conta.sacar(150)\n",
        "\n",
        "    print(\"\\n--- Testando Extrato (após operações) ---\")\n",
        "\n",
        "    print(\"\\n-- Testando Transferência ---\")\n",
        "    minha_conta.transferir(conta_joao, 400)\n",
        "    print(\"\\n--- Saldos após transferência ---\")\n",
        "    minha_conta.consultar_saldo()\n",
        "    conta_joao.consultar_saldo()\n",
        "\n",
        "    print(\"\\n--- Extrato da minha conta após transferência ---\")\n",
        "    minha_conta.exibir_extrato()\n",
        "\n",
        "    print(\"\\n--- Extrato da conta do joão após transferência ---\")\n",
        "    conta_joao.exibir_extrato()\n",
        "\n",
        "    minha_conta.tranferir(conta_joao, 1500)"
      ],
      "metadata": {
        "id": "YmLo1wHDdiLG"
      },
      "execution_count": null,
      "outputs": []
    },
    {
      "cell_type": "markdown",
      "source": [
        "##**Quarta Etapa**"
      ],
      "metadata": {
        "id": "WWXLhCbldsKb"
      }
    },
    {
      "cell_type": "code",
      "source": [
        "def salvar_dados(conta, filename=\"banco_dados.json\"):\n",
        "    \"\"\" Salva o saldo e o extrato de uma conta em um arquivo JSON.\"\"\"\n",
        "    dados = {\n",
        "        \"numero_conta\": conta._numero_conta, # Incluir o número da conta para recriar o objeto\n",
        "        \"saldo\": conta.saldo,\n",
        "        \"extrato\": conta.extrato\n",
        "    }\n",
        "\n",
        "    with open(filename, \"w\") as f: # Abre o arquivo \"banco_dados.json\" em modo de escrita (\"w\")\n",
        "        # Salva o saldo e o extrato no arquivo usando json.dump()\n",
        "        json.dump(dados, f, indent=4) # O 'indent-4' é para formatar o JSON de forma legível\n",
        "    print(f\"Dados da conta '{conta._numero_conta}' salvos com sucesso!\")\n",
        "\n",
        "def carregar_dados(filename=\"banco_dados.json\"):\n",
        "    \"\"\"Carrega o saldo e o extrato de uma conta a partir de um arquivo JSON.\"\"\"\n",
        "    try: # Tentar abrir um arquivo chamado \"banco_dados.json\" em modo de leitura (\"r\").\n",
        "       with open(filename, \"r\") as f:\n",
        "           dados = json.load(f) # Se o arquivo existir, carregar o saldo e o extrato de lá.\n",
        "           # Retorna uma nova instância de ContaBancaria com os dados carregados\n",
        "           return ContaBancaria(dados[\"numero_conta\"], dados[\"saldo\"], dados[\"extrato\"])\n",
        "    except FileNotFoundError: #Se o arquivo não existir (FileNotFoundError), definir o saldo inicial e o extrato como uma lista vazia.\n",
        "        print(\"Arquivo de dados não encontrado. Criando nova conta com número padrão '00000-0'.\")\n",
        "        return ContaBancaria(00000-0) # Retorna uma nova conta com um número padrão se o arquivo não for encontrado"
      ],
      "metadata": {
        "id": "vc2Q-P0Rdzvw"
      },
      "execution_count": null,
      "outputs": []
    },
    {
      "cell_type": "markdown",
      "source": [
        "##**Quinta Etapa**"
      ],
      "metadata": {
        "id": "FutGLwJwd2Xx"
      }
    },
    {
      "cell_type": "code",
      "source": [
        "if __name__ == \"__main__\":\n",
        "    minha_conta = carregar_dados() # Chamar carregar_dados() para obter uma instância de ContaBancaria.add()\n",
        "\n",
        "    # Exemplo de como você poderia ter uma segunda conta (para transferência)\n",
        "    outra_conta = carregar_dados(filename=\"banco_secundario.json\")\n",
        "    if outra_conta._numero_conta == \"00000-0\": # Se for uma conta recém-criada (não caregada de arquivo)\n",
        "        outra_conta._numero_conta + \"54321-Y\" # Atribui um número real para demonstração\n",
        "\n",
        "    while True: # Manter o loop while TRue que exibe o menu de opções.\n",
        "        print(\"\\n--- Olá! Bem-vindo ao seu banco virtual. ---\")\n",
        "        print(\"---------------------------------------\")\n",
        "        print(\"1 - Consultar Saldo\")\n",
        "        print(\"2 - Depositar\")\n",
        "        print(\"3 - Sacar\")\n",
        "        print(\"4 - Exibir Extrato\")\n",
        "        print(\"5 - Transferir\")\n",
        "        print(\"6 - Sair\")\n",
        "        print(\"----------------------------------------\")\n",
        "\n",
        "        opcao_str = input(\"Digite a opção desejada: \")\n",
        "        try:\n",
        "            opcao = int(opcao_str)\n",
        "            if not (1 <= opcao <= 6): # Validar a opção escolhida\n",
        "                print(\"Opção inválida. Por favor, digite um número entre 1 e 6.\")\n",
        "                continue # Continua o loop para pedir a opção novamente\n",
        "        except ValueError:\n",
        "            print(\"Opção inválida. Por favor, digite um número inteiro. \")\n",
        "            continue\n",
        "\n",
        "        if opcao == 1:\n",
        "            minha_conta.consultar_saldo()\n",
        "        elif opcao == 2:\n",
        "            valor = input(\"Digite o valor a depositar: R$ \")\n",
        "            minha_conta.depositar(valor)\n",
        "        elif opcao == 3:\n",
        "            valor = input(\"Digite o valor a sacar: R$ \")\n",
        "            minha_conta.sacar(valor)\n",
        "        elif opcao == 4:\n",
        "            minha_conta.exibir_extrato()\n",
        "        elif opcao == 5:\n",
        "            print(f\"\\nRealizando tranferência da conta '{minha_conta.numero_conta}' para '{outra_conta._numero_conta}'\")\n",
        "            valor_tranferencia = input(\"Digite o valor a ser transferido: R$ \")\n",
        "            minha_conta.tranferir(outra_conta, valor_tranferencia)\n",
        "        elif opcao == 6:\n",
        "            salvar_dados(minha_conta) # Salvar os dados da conta principal antes de sair.\n",
        "            salvar_dados(outra_conta, filename=\"banco_secundario.json\") # Salvar a segunda conta também\n",
        "            print(\"Obrigado por utilizar nosso banco virtual!\")\n",
        "            break"
      ],
      "metadata": {
        "id": "FhV6M4-0d4Ya"
      },
      "execution_count": null,
      "outputs": []
    }
  ]
}