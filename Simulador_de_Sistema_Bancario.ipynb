{
  "nbformat": 4,
  "nbformat_minor": 0,
  "metadata": {
    "colab": {
      "provenance": [],
      "authorship_tag": "ABX9TyNcCek36B+1tJ+c4GQEWk5a",
      "include_colab_link": true
    },
    "kernelspec": {
      "name": "python3",
      "display_name": "Python 3"
    },
    "language_info": {
      "name": "python"
    }
  },
  "cells": [
    {
      "cell_type": "markdown",
      "metadata": {
        "id": "view-in-github",
        "colab_type": "text"
      },
      "source": [
        "<a href=\"https://colab.research.google.com/github/GiovanaBoaventura/Sistema-Bancario/blob/main/Simulador_de_Sistema_Bancario.ipynb\" target=\"_parent\"><img src=\"https://colab.research.google.com/assets/colab-badge.svg\" alt=\"Open In Colab\"/></a>"
      ]
    },
    {
      "cell_type": "markdown",
      "source": [
        "#**Simulador de Sistema Bancário**"
      ],
      "metadata": {
        "id": "64rkmTV_Lw_j"
      }
    },
    {
      "cell_type": "markdown",
      "source": [
        "##**Primeira Etapa**"
      ],
      "metadata": {
        "id": "SeOswIJ1L29a"
      }
    },
    {
      "cell_type": "code",
      "source": [
        "# Passo 1: Criar variáveis para representar o saldo e a opção do menu\n",
        "saldo = 0.0 # Saldo inicial (você pode alterar este valor)\n",
        "opcao = 0\n",
        "\n",
        "# Passo 2: Exibir uma mensagem de boas-vindas e as opções do menu\n",
        "print(\"Olá! Bem-vindo ao seu banco virtual.\")\n",
        "print(\"-------------------------------------\")\n",
        "print(\"1 - Consultar Saldo\")\n",
        "print(\"2 - Depositar\")\n",
        "print(\"3 - Sacar\")\n",
        "print(\"4- Sair\")\n",
        "print(\"-------------------------------------\")\n",
        "\n",
        "# Passo 3: Ler a opção do usuário\n",
        "opcao_str = input(\"Digite a opção desejada: \")\n",
        "\n",
        "# Passo 4: Validar a opção do usuário usando um laço while\n",
        "while not opcao_str.isdigit() or not (1 <= int(opcao_str) <= 4):\n",
        "  print(\"Opção inválida. Por favor, digite um número entre 1 e 4.\")\n",
        "  opcao_str = input(\"Digite a opção desejada: \")\n",
        "\n",
        "opcao = int(opcao_str)\n",
        "\n",
        "#Aqui você pode adicionar a lógica para cada opção do menu\n",
        "if opcao == 1:\n",
        "  print(f\"Seu saldo atual é: R$ {saldo:.2f}\")\n",
        "elif opcao == 2:\n",
        "  valor_deposito = float(input(\"Digite o valor a depositar: R$ \"))\n",
        "  saldo += valor_deposito\n",
        "  print(f\"Depósito de R$ {valor_deposito:.2f} realizado com sucesso.\")\n",
        "  print(f\"Seu novo saldo é: R$ {saldo:.2f}\")\n",
        "elif opcao == 3:\n",
        "  valor_saque = float(input(\"Digite o valor a sacar: R$ \"))\n",
        "  if valor_saque <= saldo:\n",
        "    saldo -= valor_saque\n",
        "    print(f\"Saque de R$ {valor_saque:.2f} realizado com sucesso.\")\n",
        "    print(f\"Seu novo saldo é: R$ {saldo:.2f}\")\n",
        "  else:\n",
        "    print(\"Saldo insuficiente.\")\n",
        "elif opcao == 4:\n",
        "  print(\"Obrigado por utilizar nosso banco virtual!\")"
      ],
      "metadata": {
        "id": "wHHGEyKyL6QC"
      },
      "execution_count": null,
      "outputs": []
    },
    {
      "cell_type": "markdown",
      "source": [
        "##**Segunda Etapa**"
      ],
      "metadata": {
        "id": "BDzzm2yqPQ5a"
      }
    },
    {
      "cell_type": "code",
      "source": [
        "saldo = 1000.0 # Saldo inicial (você pode alterar este valor)\n",
        "\n",
        "def consultar_saldo():\n",
        "  \"\"\"Exibe o saldo atual.\"\"\"\n",
        "  print(f\"Seu saldo atual é: R$ {saldo:.2f}\")\n",
        "\n",
        "def sacar():\n",
        "  \"\"\"Realiza a operação de saque, verificando o saldo.\"\"\"\n",
        "  global saldo # Indica que estamos modificando a variável global saldo\n",
        "  valor_saque = float(input(\"Digite o valor a sacar: R$ \"))\n",
        "  if valor_saque <= saldo:\n",
        "    saldo -= valor_saque\n",
        "    print(f\"Saque de R$ {valor_saque:.2f} realizado com sucesso.\")\n",
        "  else:\n",
        "    print(\"Saldo insuficiente.\")\n",
        "\n",
        "def depositar():\n",
        "  \"\"\"Realiza a operação de depósito.\"\"\"\n",
        "  global saldo # Indica que estamos modificando a variável global saldo\n",
        "  valor_deposito = float(input(\"Digite o valor a depositar: R$ \"))\n",
        "  saldo += valor_deposito\n",
        "  print(f\"Depósito de R$ {valor_deposito:.2f} realizado com sucesso.\")\n",
        "\n",
        "  # Exibir mensagem de boas-vindas e as opções do menu\n",
        "print(\"Olá! Bem-vindo ao seu banco virtual.\")\n",
        "print(\"------------------------------------\")\n",
        "print(\"1 - Consultar Saldo\")\n",
        "print(\"2 - Depositar\")\n",
        "print(\"3 - Sacar\")\n",
        "print(\"4 - Sair\")\n",
        "print(\"------------------------------------\")\n",
        "\n",
        "# Ler a opção do usuário\n",
        "opcao_str = input(\"Digite a opção desejada: \")\n",
        "\n",
        "# Validar a opção do usuário usando um laço while\n",
        "while not opcao_str.isdigit() or not (1 <= int(opcao_str) <= 4):\n",
        "  print(\"Opção inválida. Por favor, digite um número entre 1 e 4.\")\n",
        "  opcao_str = input(\"Digite a opção desejada: \")\n",
        "\n",
        "opcao = int(opcao_str)\n",
        "\n",
        "# Executar a ação com base na opção do usuário\n",
        "if opcao == 1:\n",
        "  consultar_saldo()\n",
        "elif opcao == 2:\n",
        "  depositar()\n",
        "elif opcao == 3:\n",
        "  sacar()\n",
        "elif opcao == 4:\n",
        "  print(\"Obrigado por utilizar nosso banco virtual!\")"
      ],
      "metadata": {
        "id": "7g3vvYTPPTyq"
      },
      "execution_count": null,
      "outputs": []
    },
    {
      "cell_type": "markdown",
      "source": [
        "##**Terceira Etapa**"
      ],
      "metadata": {
        "id": "X8lAzv2nRKni"
      }
    },
    {
      "cell_type": "code",
      "source": [
        "saldo = 1000.0 # Saldo inicial (você pode alterar este valor)\n",
        "\n",
        "def consultar_saldo():\n",
        "  \"\"\"Exibe o saldo atual.\"\"\"\n",
        "  print(f\"Seu saldo atual é: R$ {saldo:.2f}\")\n",
        "\n",
        "def sacar():\n",
        "  \"\"\"Realiza a operação de saque, verificando o saldo.\"\"\"\n",
        "  global saldo # Indica que estamos modificando a variável global saldo\n",
        "  valor_saque = float(input(\"Digite o valor a sacar: R$ \"))\n",
        "  if valor_saque <= saldo:\n",
        "    saldo -= valor_saque\n",
        "    print(f\"Saque de R$ {valor_saque:.2f} realizado com sucesso.\")\n",
        "  else:\n",
        "    print(\"Saldo insuficiente.\")\n",
        "\n",
        "def depositar():\n",
        "  \"\"\"Realiza a operação de depósito.\"\"\"\n",
        "  global saldo # Indica que estamos modificando a variável global saldo\n",
        "  valor_deposito = float(input(\"Digite o valor a depositar: R$ \"))\n",
        "  saldo += valor_deposito\n",
        "  print(f\"Depósito de R$ {valor_deposito:.2f} realizado com sucesso.\")\n",
        "\n",
        "while True:\n",
        "    # Exibir mensagem de boas-vindas e as opções do menu\n",
        "print(\"\\nOlá! Bem-vindo ao seu banco virtual.\")\n",
        "print(\"------------------------------------\")\n",
        "print(\"1 - Consultar Saldo\")\n",
        "print(\"2 - Depositar\")\n",
        "print(\"3 - Sacar\")\n",
        "print(\"4 - Sair\")\n",
        "print(\"------------------------------------\")\n",
        "\n",
        "# Ler a opção do usuário\n",
        "opcao_str = input(\"Digite a opção desejada: \")\n",
        "\n",
        "# Validar a opção do usuário usando um laço while\n",
        "while not opcao_str.isdigit() or not (1 <= int(opcao_str) <= 4):\n",
        "  print(\"Opção inválida. Por favor, digite um número entre 1 e 4.\")\n",
        "  opcao_str = input(\"Digite a opção desejada: \")\n",
        "\n",
        "opcao = int(opcao_str)\n",
        "\n",
        "# Executar a ação com base na opção do usuário\n",
        "if opcao == 1:\n",
        "  consultar_saldo()\n",
        "elif opcao == 2:\n",
        "  depositar()\n",
        "elif opcao == 3:\n",
        "  sacar()\n",
        "elif opcao == 4:\n",
        "  print(\"Obrigado por utilizar nosso banco virtual!\")\n",
        "  break # Sai do laço while, encerrando o programa"
      ],
      "metadata": {
        "id": "mrpHGkiTRNr5"
      },
      "execution_count": null,
      "outputs": []
    }
  ]
}